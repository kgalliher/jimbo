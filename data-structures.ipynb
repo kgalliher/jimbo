{
 "metadata": {
  "language_info": {
   "codemirror_mode": {
    "name": "ipython",
    "version": 3
   },
   "file_extension": ".py",
   "mimetype": "text/x-python",
   "name": "python",
   "nbconvert_exporter": "python",
   "pygments_lexer": "ipython3",
   "version": "3.9.2-final"
  },
  "orig_nbformat": 2,
  "kernelspec": {
   "name": "python3",
   "display_name": "Python 3.9.2 64-bit ('jupyterlab-debugger': conda)",
   "metadata": {
    "interpreter": {
     "hash": "0ff03eb91811650e9e0868ee5f088fc69325d59e41c224752a825f4b848de136"
    }
   }
  }
 },
 "nbformat": 4,
 "nbformat_minor": 2,
 "cells": [
  {
   "source": [
    "### Types of data structures\n",
    "\n",
    "Refered to as \"Collections\"\n",
    "- lists \\[1,2,3,...\\]\n",
    "- dictionaries {\"key\": \"value\"}\n",
    "- tuples (1,2,3,...)\n",
    "\n",
    "### Mutable vs Immutable\n",
    "- Mutable = changable\n",
    "- Immutable = not changable\n",
    "\n",
    "This can be important when working with data.  If you are doing some calculations on a value in a list and it changes unexpectedly, you can end up with errors, crashes, miscalculations.\n",
    "\n",
    "Avoid these issues by:\n",
    "1. Making a copy of your list:\n",
    "```\n",
    "   list_that_shouldnt_change = [1,2,3]\n",
    "   list_that_can_change = list_that_shouldnt_change\n",
    "```\n",
    "\n",
    "2. Using a tuple:\n",
    "```\n",
    "   my_tuple = (1,2,3)\n",
    "   my_tuple[0] = 5\n",
    "\n",
    "   >>> TypeError: 'tuple' object does not support item assignment\n",
    "```"
   ],
   "cell_type": "markdown",
   "metadata": {}
  },
  {
   "cell_type": "code",
   "execution_count": 6,
   "metadata": {},
   "outputs": [
    {
     "output_type": "execute_result",
     "data": {
      "text/plain": [
       "['XBox', 'PlayStation', 'Wii U']"
      ]
     },
     "metadata": {},
     "execution_count": 6
    }
   ],
   "source": [
    "# List\n",
    "console_list = [\"XBox\", \"PlayStation\", \"Wii U\"]\n",
    "console_list"
   ]
  },
  {
   "cell_type": "code",
   "execution_count": 7,
   "metadata": {},
   "outputs": [
    {
     "output_type": "execute_result",
     "data": {
      "text/plain": [
       "{'Microsoft': 'XBox', 'Sony': 'PlayStation', 'Nintendo': 'Wii U'}"
      ]
     },
     "metadata": {},
     "execution_count": 7
    }
   ],
   "source": [
    "# Dictionary\n",
    "console_dict = {\"Microsoft\": \"XBox\", \"Sony\": \"PlayStation\", \"Nintendo\": \"Wii U\"}\n",
    "console_dict"
   ]
  },
  {
   "cell_type": "code",
   "execution_count": 8,
   "metadata": {},
   "outputs": [
    {
     "output_type": "execute_result",
     "data": {
      "text/plain": [
       "('XBox', 'PlayStation', 'Wii U')"
      ]
     },
     "metadata": {},
     "execution_count": 8
    }
   ],
   "source": [
    "# Tuple\n",
    "console_tuple = (\"XBox\", \"PlayStation\", \"Wii U\")\n",
    "console_tuple"
   ]
  },
  {
   "source": [
    "### Adding items to a collection:\n",
    "\n",
    "#### list -> use the .append() function:\n",
    "```\n",
    "console_list = [\"XBox\", \"PlayStation\", \"Wii U\"]\n",
    "console_list.append(\"PC\")\n",
    "```\n",
    "\n",
    "#### Dictionary -> Create a new key and assign the value\n",
    "```\n",
    "console_dict = {\"Microsoft\": \"XBox\", \"Sony\": \"PlayStation\", \"Nintendo\": \"Wii U\"}\n",
    "console_dict[\"Windows\"] = \"PC\"\n",
    "```\n",
    "\n",
    "#### Tuple -> A tuple is an immutable object. Hence any operation that tries to modify it (like append) is not allowed."
   ],
   "cell_type": "markdown",
   "metadata": {}
  },
  {
   "source": [
    "## Assignment 1.\n",
    "### Add the Nintendo Switch to the console_dict and console_list collections:\n",
    "\n",
    "- [ ] Add the new console to the collection\n",
    "- [ ] Print the collection"
   ],
   "cell_type": "markdown",
   "metadata": {}
  },
  {
   "cell_type": "code",
   "execution_count": null,
   "metadata": {},
   "outputs": [],
   "source": []
  }
 ]
}